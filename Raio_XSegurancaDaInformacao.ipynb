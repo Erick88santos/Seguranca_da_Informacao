{
  "nbformat": 4,
  "nbformat_minor": 0,
  "metadata": {
    "colab": {
      "provenance": [],
      "authorship_tag": "ABX9TyNI00zRqmt1x8WztU5Z0Xfi",
      "include_colab_link": true
    },
    "kernelspec": {
      "name": "python3",
      "display_name": "Python 3"
    },
    "language_info": {
      "name": "python"
    }
  },
  "cells": [
    {
      "cell_type": "markdown",
      "metadata": {
        "id": "view-in-github",
        "colab_type": "text"
      },
      "source": [
        "<a href=\"https://colab.research.google.com/github/Erick88santos/pythonHackingWhois/blob/main/Raio_XSegurancaDaInformacao.ipynb\" target=\"_parent\"><img src=\"https://colab.research.google.com/assets/colab-badge.svg\" alt=\"Open In Colab\"/></a>"
      ]
    },
    {
      "cell_type": "markdown",
      "source": [
        "#✅ **Raio-X de Segurança da Informação**\n",
        "\n",
        "[Aula - 2](https://drive.google.com/file/d/1o9AJ-J-zcDUhGHY7SS__KNI4_vf9c_en/view)\n"
      ],
      "metadata": {
        "id": "Ou5-i5gtqA6x"
      }
    },
    {
      "cell_type": "markdown",
      "source": [
        "## ⚡ **H@king é um mercado profissional**\n",
        "\n",
        "▶ Padrões. \n",
        "\n",
        "\n",
        "▶ Metodologias : Pentest Bug Bount. [pentest-methodology](http://www.pentest-standard.org/index.php/Main_Page)\n",
        "\n",
        "\n",
        "◼ OSSTMM\n",
        "\n",
        "◼ OWASP\n",
        "\n",
        "◼ NIST\n",
        "\n",
        "◼ PTES\n",
        "\n",
        "◼ ISSAF\n",
        "\n",
        "◼ BUG BOUNTY"
      ],
      "metadata": {
        "id": "GUv8hkXsrTGU"
      }
    },
    {
      "cell_type": "markdown",
      "source": [
        "#🎯 **Alvo**\n",
        "\n",
        "🔖 **Conhecer** - Recon\n",
        "\n",
        "🕵 **Analisar** - coletar tudo do Alvo\n",
        "\n",
        "🔻 **Explorar** - "
      ],
      "metadata": {
        "id": "EnnK5Zn6wkne"
      }
    },
    {
      "cell_type": "markdown",
      "source": [
        "````\n",
        "senha: vouseraluno\n",
        "````"
      ],
      "metadata": {
        "id": "g9ERo7Qi-DIC"
      }
    },
    {
      "cell_type": "markdown",
      "source": [
        "#**Estudando o 🎯**"
      ],
      "metadata": {
        "id": "JlsnTfL-CNGS"
      }
    },
    {
      "cell_type": "code",
      "source": [
        "# $ whatweb https://www.domain.com \n"
      ],
      "metadata": {
        "id": "2ShMVdBRB7rk"
      },
      "execution_count": null,
      "outputs": []
    },
    {
      "cell_type": "markdown",
      "source": [
        "#🎯 **Ver emails**"
      ],
      "metadata": {
        "id": "mqWV24rMCSXZ"
      }
    },
    {
      "cell_type": "code",
      "source": [
        "# $ theHarvester -d domain.com -b goolge -l 500"
      ],
      "metadata": {
        "id": "kh4i7gWw92D6"
      },
      "execution_count": null,
      "outputs": []
    },
    {
      "cell_type": "markdown",
      "source": [
        "# 🎯 Subdomínios"
      ],
      "metadata": {
        "id": "1wJ2q_3PFL3T"
      }
    },
    {
      "cell_type": "markdown",
      "source": [
        "Instalando o golang\n",
        "\n",
        "````\n",
        "$ sudo apt-get install golang\n",
        "````"
      ],
      "metadata": {
        "id": "vuSJ4ELSEmpi"
      }
    },
    {
      "cell_type": "markdown",
      "source": [
        "# **Instalar**\n",
        "\n",
        "[subfinder](https://github.com/projectdiscovery/subfinder)\n",
        "\n",
        "\n",
        "````\n",
        "`$ ./subfinder -d domain.com -silent\n",
        "````\n",
        "\n",
        "😮\n",
        "\n",
        "````\n",
        "`$ ./subfinder -d domain.com -silent | ./httpx -silent\n",
        "````"
      ],
      "metadata": {
        "id": "n6q57O6iD42V"
      }
    },
    {
      "cell_type": "markdown",
      "source": [
        "# 🖨 Scanner\n",
        "\n",
        "lista todas as falhas \n",
        "\n",
        "````\n",
        "`$ wpscan --url domain.com/\n",
        "````\n",
        "\n",
        "🚥\n",
        "\n",
        "\n",
        "````\n",
        "`$ wpscan --url domain.com/ --enumerate u\n",
        "````"
      ],
      "metadata": {
        "id": "F-LZo4_7Hutp"
      }
    },
    {
      "cell_type": "markdown",
      "source": [
        "# enc0ntrar sEnh@ e l0gin dos colaboradores do d0mini0\n"
      ],
      "metadata": {
        "id": "K1upJZLxKk7K"
      }
    },
    {
      "cell_type": "markdown",
      "source": [
        "\n",
        "````\n",
        "dehashed\n",
        "````"
      ],
      "metadata": {
        "id": "1EFkKtCPKlU4"
      }
    }
  ]
}