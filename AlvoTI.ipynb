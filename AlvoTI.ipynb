{
  "nbformat": 4,
  "nbformat_minor": 0,
  "metadata": {
    "colab": {
      "provenance": [],
      "authorship_tag": "ABX9TyNbtoJUiI7mEvPnBKks2eB0",
      "include_colab_link": true
    },
    "kernelspec": {
      "name": "python3",
      "display_name": "Python 3"
    },
    "language_info": {
      "name": "python"
    }
  },
  "cells": [
    {
      "cell_type": "markdown",
      "metadata": {
        "id": "view-in-github",
        "colab_type": "text"
      },
      "source": [
        "<a href=\"https://colab.research.google.com/github/Erick88santos/pythonHackingWhois/blob/main/AlvoTI.ipynb\" target=\"_parent\"><img src=\"https://colab.research.google.com/assets/colab-badge.svg\" alt=\"Open In Colab\"/></a>"
      ]
    },
    {
      "cell_type": "markdown",
      "source": [
        "## 💀 ❌ 📶 **Brutal Force WireLess Penetration**\n",
        "\n",
        "[Pen-Test Wireless ](https://www.cybrary.it/blog/0p3n/crack-wpawpa2-wi-fi-passwords-using-aircrack-ng/)"
      ],
      "metadata": {
        "id": "4YqswPHp9zgL"
      }
    },
    {
      "cell_type": "markdown",
      "source": [
        "### 🧾 **Pré-requisitos de ataque**\n",
        "\n",
        "\n",
        "\n",
        "⚫ Kali Linux pode ser A) instalado ou B) usado na versão Live através de uma versão inicializável ou C) instalado em uma VM usando VMWare ou Virtual Box.\n",
        "\n",
        "⚫ Para quebrar a senha da rede Wi-Fi, o PC/computador deve ter uma placa wireless externa capaz de executar um monitor ou modo de injeção .\n",
        "\n",
        "⚫ Uma lista de palavras para quebrar a senha do Wi-Fi"
      ],
      "metadata": {
        "id": "Lx40gsvaE-Yr"
      }
    },
    {
      "cell_type": "markdown",
      "source": [
        "## 📶 **Funcionamento do Wi-Fi?**\n",
        "\n",
        "Para entender como quebrar o Wi-Fi, é preciso saber como o Wi-Fi funciona. O Wi-Fi funciona transmitindo pacotes de rede, que podem ser capturados e despejados usando airodump-ng , parte do aircrack-ng . Em seguida, é necessário determinar se a vítima está conectada à rede Wi-Fi de destino. Vale a pena mencionar que se ninguém estiver conectado à rede Wi-Fi de destino, não será possível quebrá-la, pois não será possível realizar um handshake WPA/WPA2 sem que um cliente esteja conectado à rede. rede. O objetivo aqui é capturar o handshake de autenticação WPA/WPA2 enviando pacotes de desautenticação para quebrar a chave pré-compartilhada usando a ferramenta aircrack-ng."
      ],
      "metadata": {
        "id": "d0O0cdvMFqcy"
      }
    },
    {
      "cell_type": "markdown",
      "source": [
        "# 🧾 **Passos para quebrar senhas Wi-Fi WPA/WPA2 usando Aircrack-ng**\n",
        "\n",
        "▶ Inicie o terminal no Kali Linux.\n",
        "\n",
        "Ative o usuário root:\n",
        "````\n",
        "$ sudo -i\n",
        "````\n",
        "\n",
        "\n",
        "▶No terminal, use o **iwconfig** para determinar o nome do adaptador sem fio, pois pode haver várias interfaces de rede sem fio no sistema.\n",
        "\n",
        "````\n",
        "$  iwconfig \n",
        "````\n",
        "*Nesse caso, **wlan0** é o nome do adaptador sem fio, que pode variar dependendo da configuração do sistema. Se conectado a uma placa wireless externa, pode ser wlan1 ou mesmo wlan2.\n",
        "Para certas placas sem fio, algumas mensagens de erro podem ser exibidas (por exemplo, habilite o erro do modo de monitor). Se houver algum desses erros, o comando airmon-ng check kill deve ser usado para matar o processo, conforme mostrado abaixo.* \n",
        "\n",
        "▶ Para certas placas sem fio, algumas mensagens de erro podem ser exibidas (por exemplo, habilite o erro do modo de monitor). Se houver algum desses erros, o comando airmon-ng check kill deve ser usado para matar o processo, conforme mostrado abaixo\n",
        "````\n",
        "$ airmon-ng check kill\n",
        "````\n",
        "\n",
        "▶Habilite o modo monitor na placa Wi-Fi (wlan0) usando o comando airmon-ng start wlan0 (interface da placa wireless). Usando a interface no terminal, use wlan0mon\n",
        "\n",
        "````\n",
        "$ airmon-ng start wlan0\n",
        "````\n",
        "\n",
        "▶Use o comando airodump-ng wlan0mon, conforme mostrado abaixo, para exibir todos os pontos de acesso nas proximidades do computador, incluindo os clientes conectados a esse ponto de acesso. Este comando captura os pacotes de rede. Ele também coletará dados dos pacotes sem fio.\n",
        "Nota: Não feche este terminal porque ele será usado para saber se o handshake WPA foi capturado ou não.\n",
        "````\n",
        "$ airodump-ng wlan0mon\n",
        "````\n",
        "\n",
        "▶Adicione mais alguns parâmetros ao comando airodump-ng. O comando final nesta etapa será airodump-ng -c channel --bssid [bssid do Wi-Fi] -w [caminho para escrever os dados dos pacotes] wlan0mon [interface].\n",
        "Explicação dos sinalizadores (ou opções) usados ​​no comando:\n",
        "\n",
        "-bssid: foi indicado com uma marca vermelha na captura de tela.\n",
        "\n",
        "-c: é o canal do Wi-Fi de destino que neste caso é 10 (veja na captura de tela anterior o número do canal)\n",
        "\n",
        "-w é o diretório no qual os dados capturados são gravados, que, neste caso, é '/root/Desktop/hack', mas pode ser alterado para um local arbitrário.\n",
        "\n",
        "A interface de rede, no exemplo mostrado, é wlan0mon.\n",
        "\n",
        "O caminho do arquivo escolhido é /root/Desktop/hack no comando acima, então os pacotes capturados pelo airdump-ng serão gravados no arquivo chamado hack na área de trabalho ou no diretório /root/Desktop.\n",
        "\n",
        "````\n",
        "$ airodump-ng -c channel --bssid [bssid do Wi-Fi] -w [caminho para escrever os dados dos pacotes] wlan0mon [interface]\n",
        "````\n",
        "\n",
        "▶Em seguida, desautentique os clientes conectados à rede Wi-Fi. O comando para isso seria aireplay-ng --deauth 10 -a [router bssid] interface\n",
        "Opcionalmente, adicione o endereço MAC do cliente adicionando o -csinalizador de linha de comando, onde oparte deve ser substituída pelo endereço MAC exclusivo do cliente. Isso desconectará o cliente do ponto de acesso. Abaixo está uma captura de tela de um cliente conectado a um ponto de acesso.\n",
        "\n",
        "Depois disso, o cliente tentará se conectar à rede Wi-Fi novamente. É quando os pacotes enviados pelo cliente serão capturados pela ferramenta. O handshake WPA seria capturado e exibido, conforme mostrado abaixo.\n",
        "\n",
        "````\n",
        "$ aireplay-ng --deauth 10 -a [router bssid] \n",
        "````\n",
        "\n",
        "\n",
        "▶ Para quebrar o Wi-Fi com esses pacotes capturados, use o comando: aircrack-ng -b [bssid of router] -w [path to word list] [path to capture packets]\n",
        "-w é o caminho para a lista de palavras, que neste caso é '/root/Desktop/wordlist.txt'.\n",
        "\n",
        "Uma lista de palavras é necessária para realizar o ataque de força bruta. Listas de palavras personalizadas também podem ser geradas usando crunch, conforme mostrado abaixo:\n",
        "\n",
        "Usando o comando mostrado acima na captura de tela, o aircrack-ng quebrará a senha da rede Wi-Fi.\n",
        "\n",
        "Para que o ataque tenha sucesso, o aircrack-ng precisa de uma boa lista de palavras, que pode ser gerada de forma personalizada ou baixada da internet, como dito anteriormente. Como mostrado acima, a chave foi encontrada pelo aircrack-ng e exibida no terminal.\n",
        "\n",
        "Este método de quebra de senha de Wi-Fi WPA/WPA2 usando aircrack-ng pode ser especialmente útil para testes de segurança de infraestrutura, avaliações de equipes vermelhas e simulação de ataque que engloba testes de segurança de rede física. Referência: https://www.aircrack-ng.org/"
      ],
      "metadata": {
        "id": "9t58stIIGG52"
      }
    },
    {
      "cell_type": "markdown",
      "source": [],
      "metadata": {
        "id": "lzuUgIE9EDYq"
      }
    },
    {
      "cell_type": "markdown",
      "source": [
        "# 🎯 **Revisão do Alvo - Prática**\n",
        "\n",
        "⏰ [HackerOne](https://www.hackerone.com/) ⏰\n",
        "\n",
        "[AULA 1 PDF](https://tecnicasdeinvasao.com/apostila-1) (j2f2f9t4)\n",
        "\n",
        "[AULA 2 PDF](https://tecnicasdeinvasao.com/apostila-2) (kali)\n",
        "\n",
        "[AULA 3 PDF](https://tecnicasdeinvasao.com/apostila-3) (vouseraluno)"
      ],
      "metadata": {
        "id": "VzZrbFlC64A1"
      }
    },
    {
      "cell_type": "code",
      "source": [
        "#burp suite\n",
        "\n",
        "#reverse Shell in php github"
      ],
      "metadata": {
        "id": "4rEPjXZu8yaS"
      },
      "execution_count": null,
      "outputs": []
    }
  ]
}