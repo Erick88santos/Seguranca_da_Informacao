{
  "nbformat": 4,
  "nbformat_minor": 0,
  "metadata": {
    "colab": {
      "provenance": [],
      "collapsed_sections": [],
      "authorship_tag": "ABX9TyMiLqGRUEL1uhn13nbWs8fv",
      "include_colab_link": true
    },
    "kernelspec": {
      "name": "python3",
      "display_name": "Python 3"
    },
    "language_info": {
      "name": "python"
    }
  },
  "cells": [
    {
      "cell_type": "markdown",
      "metadata": {
        "id": "view-in-github",
        "colab_type": "text"
      },
      "source": [
        "<a href=\"https://colab.research.google.com/github/Erick88santos/pythonHackingWhois/blob/main/AmbientesdeSegurancaIT.ipynb\" target=\"_parent\"><img src=\"https://colab.research.google.com/assets/colab-badge.svg\" alt=\"Open In Colab\"/></a>"
      ]
    },
    {
      "cell_type": "markdown",
      "source": [
        "# 👽 **Aprendendo a H@ke@R em 2022**\n",
        "\n",
        "\n",
        "[(PDF - Aula 1)](https://drive.google.com/file/d/1v_9Lximnb-Vrold3UCkP0ANSqAuHPdGR/view)\n",
        "\n",
        "[MAPA MENTAL](https://drive.google.com/file/d/1afR_KFI0gkjJYbQsnSHpuDH6YZi8WQi1/view)"
      ],
      "metadata": {
        "id": "2dA5TpwJRrKP"
      }
    },
    {
      "cell_type": "markdown",
      "source": [
        "## ✅ **Baixe o virtualBOX da Oracle**\n",
        "\n",
        "[Download](https://www.virtualbox.org/)\n",
        "\n",
        "````\n",
        "Baixe o Arquivo de Extensão \n",
        "````\n",
        "\n",
        "## ✅ **Baixe aISO DO KALI-LINUX**\n",
        "\n",
        "\n",
        "[Download - kali linux](https://www.kali.org/docs/introduction/download-official-kali-linux-images/)\n",
        "````\n",
        "\n",
        "````\n"
      ],
      "metadata": {
        "id": "sI3GY9xGSAUc"
      }
    },
    {
      "cell_type": "markdown",
      "source": [
        " ### ⬛**A senha da apostila aula 02**\n",
        "\n",
        "````\n",
        "senha: kali\n",
        "````"
      ],
      "metadata": {
        "id": "P_w3YMTKrqh6"
      }
    },
    {
      "cell_type": "markdown",
      "source": [
        "###✅ **Wifi 👽**\n",
        "\n",
        "\n",
        "Terminal do kali-linux\n",
        " ````\n",
        "$ wifite\n",
        "\n",
        "````\n",
        "\n",
        "\n",
        "[open github wifite](https://github.com/kimocoder/wifite2)\n",
        "\n",
        "[Comandos Linux](https://explainshell.com/)"
      ],
      "metadata": {
        "id": "59DtrAo8tnVq"
      }
    },
    {
      "cell_type": "markdown",
      "source": [
        "# 🎯 **O Alvo** \n",
        "\n",
        "✅ Download VPN\n",
        "\n",
        "[instalando openvpn](https://openvpn.net/community-downloads/)\n",
        "\n",
        "[Tryhackme](https://tryhackme.com/)\n",
        "\n",
        "##$$\n",
        "[hackerone](https://www.hackerone.com/)"
      ],
      "metadata": {
        "id": "hCHJSpZpz6-s"
      }
    }
  ]
}